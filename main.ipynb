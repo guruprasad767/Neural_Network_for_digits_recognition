{
 "cells": [
  {
   "cell_type": "code",
   "execution_count": 1,
   "id": "8b5c431b",
   "metadata": {},
   "outputs": [],
   "source": [
    "import numpy as np\n",
    "import matplotlib.pyplot as plt\n",
    "%matplotlib inline"
   ]
  },
  {
   "cell_type": "code",
   "execution_count": 2,
   "id": "9364a684",
   "metadata": {},
   "outputs": [],
   "source": [
    "#importing and scaling handwritten digits dataset\n",
    "from tensorflow import keras\n",
    "\n",
    "(X_train, y_train) , (X_test, y_test) = keras.datasets.mnist.load_data()\n",
    "\n",
    "X_train_flat = X_train.reshape(len(X_train), 28*28)\n",
    "X_test_flat = X_test.reshape( len(X_test), 28*28)\n",
    "\n",
    "X_train_flat = X_train_flat / 255\n",
    "X_test_flat = X_test_flat / 255"
   ]
  },
  {
   "cell_type": "code",
   "execution_count": 3,
   "id": "d6a034da",
   "metadata": {},
   "outputs": [],
   "source": [
    "class My_Neural_network:\n",
    "    \n",
    "    def __init__ (self,units,input_shape):\n",
    "        self.units = units\n",
    "        self.input_shape = input_shape\n",
    "        self.weights = self.xavier_initializer(input_shape,units)\n",
    "        self.biases = np.zeros(units)\n",
    "        \n",
    "    def xavier_initializer(self,input_dim, output_dim):\n",
    "        limit = np.sqrt(6 / (input_dim + output_dim))\n",
    "        return np.random.uniform(-limit, limit, (input_dim, output_dim))\n",
    "    \n",
    "    def fit(self, x_train, y_train, epochs=5, learning_rate=0.001):\n",
    "        self.length = len(x_train)\n",
    "        self.y_encoded = np.eye(self.units)[y_train]\n",
    "        self.y_train = y_train\n",
    "        \n",
    "        self.prediction_matrix = np.dot(x_train,self.weights)\n",
    "        self.prediction_matrix = self.prediction_matrix + self.biases\n",
    "        self.prediction_matrix = self.sigmoid(self.prediction_matrix)\n",
    "        \n",
    "        for i in range(epochs):\n",
    "            self.prediction_matrix = np.dot(x_train,self.weights)\n",
    "            self.prediction_matrix = self.prediction_matrix + self.biases\n",
    "            self.prediction_matrix = self.sigmoid(self.prediction_matrix)\n",
    "            \n",
    "            if (i+1)%100 == 0:\n",
    "                print(f\"Epoch- {i+1}   Loss- {self.loss_calculation()}\" )\n",
    "\n",
    "            temp = (self.prediction_matrix - self.y_encoded) * self.prediction_matrix * (1 - self.prediction_matrix)\n",
    "\n",
    "            w_gradients = np.dot( x_train.T, temp ) / self.length\n",
    "            self.weights = self.weights - (learning_rate * w_gradients)\n",
    "\n",
    "            b_gradients = np.mean(temp, axis=0)\n",
    "            self.biases = self.biases - (learning_rate * b_gradients)\n",
    "        \n",
    "    def loss_calculation(self):\n",
    "        total_loss=0\n",
    "        for i in range(self.length):\n",
    "            total_loss += self.cross_entropy(self.prediction_matrix[i],self.y_train[i])\n",
    "            \n",
    "        return total_loss / self.length\n",
    "        \n",
    "        \n",
    "    def sigmoid(self,z):\n",
    "        return 1/(1+np.exp(-z))\n",
    "    \n",
    "    def cross_entropy(self, prediction_matrix_value, y_train_value):\n",
    "        epsilon = 1e-6\n",
    "        return -np.log( prediction_matrix_value[y_train_value] + epsilon)\n",
    "    \n",
    "    def predict(self, x_test):\n",
    "        self.predicted_matrix = np.dot(x_test,self.weights)\n",
    "        self.predicted_matrix = self.predicted_matrix + self.biases\n",
    "        self.predicted_matrix = self.sigmoid(self.predicted_matrix)\n",
    "        return self.predicted_matrix\n",
    "    \n",
    "    def accuracy_score(self,predicted_matrix,y_test):\n",
    "        correct = 0\n",
    "        for i in range(len(predicted_matrix)):\n",
    "            if y_test[i] == np.argmax(predicted_matrix[i]):\n",
    "                correct += 1\n",
    "                \n",
    "        return correct/len(predicted_matrix)\n",
    "    "
   ]
  },
  {
   "cell_type": "code",
   "execution_count": 4,
   "id": "119e63b5",
   "metadata": {},
   "outputs": [],
   "source": [
    "model = My_Neural_network(10, input_shape=784)"
   ]
  },
  {
   "cell_type": "code",
   "execution_count": 5,
   "id": "24fdc346",
   "metadata": {},
   "outputs": [
    {
     "name": "stdout",
     "output_type": "stream",
     "text": [
      "Epoch- 100   Loss- 0.6207142127858246\n",
      "Epoch- 200   Loss- 0.5508950491304393\n",
      "Epoch- 300   Loss- 0.523817625292195\n",
      "Epoch- 400   Loss- 0.5085427925284033\n",
      "Epoch- 500   Loss- 0.4984509197774567\n",
      "Epoch- 600   Loss- 0.49118574457990083\n",
      "Epoch- 700   Loss- 0.4856710520348599\n",
      "Epoch- 800   Loss- 0.4813341994729169\n",
      "Epoch- 900   Loss- 0.4778371964258396\n",
      "Epoch- 1000   Loss- 0.47496492483055486\n",
      "Epoch- 1100   Loss- 0.4725723924783081\n",
      "Epoch- 1200   Loss- 0.4705574155008711\n"
     ]
    }
   ],
   "source": [
    "model.fit(X_train_flat, y_train, epochs=1200, learning_rate=1)"
   ]
  },
  {
   "cell_type": "code",
   "execution_count": 6,
   "id": "e0cfe012",
   "metadata": {},
   "outputs": [],
   "source": [
    "predicted = model.predict(X_test_flat)"
   ]
  },
  {
   "cell_type": "code",
   "execution_count": 9,
   "id": "caea1a73",
   "metadata": {},
   "outputs": [
    {
     "data": {
      "text/plain": [
       "0.9115"
      ]
     },
     "execution_count": 9,
     "metadata": {},
     "output_type": "execute_result"
    }
   ],
   "source": [
    "model.accuracy_score(predicted,y_test)"
   ]
  },
  {
   "cell_type": "code",
   "execution_count": 24,
   "id": "dd223e7f",
   "metadata": {},
   "outputs": [
    {
     "data": {
      "text/plain": [
       "<matplotlib.image.AxesImage at 0x21229af4310>"
      ]
     },
     "execution_count": 24,
     "metadata": {},
     "output_type": "execute_result"
    },
    {
     "data": {
      "image/png": "[encoded data removed]",
      "text/plain": [
       "<Figure size 480x480 with 1 Axes>"
      ]
     },
     "metadata": {},
     "output_type": "display_data"
    }
   ],
   "source": [
    "plt.matshow(X_test[0],cmap=plt.cm.gray)"
   ]
  },
  {
   "cell_type": "code",
   "execution_count": 25,
   "id": "147ad5ae",
   "metadata": {},
   "outputs": [
    {
     "data": {
      "text/plain": [
       "7"
      ]
     },
     "execution_count": 25,
     "metadata": {},
     "output_type": "execute_result"
    }
   ],
   "source": [
    "np.argmax(predicted[0])"
   ]
  },
  {
   "cell_type": "code",
   "execution_count": 27,
   "id": "9c81eac3",
   "metadata": {},
   "outputs": [
    {
     "data": {
      "text/plain": [
       "<matplotlib.image.AxesImage at 0x21229bff250>"
      ]
     },
     "execution_count": 27,
     "metadata": {},
     "output_type": "execute_result"
    },
    {
     "data": {
      "image/png": "[encoded data removed]",
      "text/plain": [
       "<Figure size 480x480 with 1 Axes>"
      ]
     },
     "metadata": {},
     "output_type": "display_data"
    }
   ],
   "source": [
    "plt.matshow(X_test[634],cmap=plt.cm.gray)"
   ]
  },
  {
   "cell_type": "code",
   "execution_count": 28,
   "id": "e5f02ae7",
   "metadata": {},
   "outputs": [
    {
     "data": {
      "text/plain": [
       "9"
      ]
     },
     "execution_count": 28,
     "metadata": {},
     "output_type": "execute_result"
    }
   ],
   "source": [
    "np.argmax(predicted[634])"
   ]
  },
  {
   "cell_type": "code",
   "execution_count": 29,
   "id": "b667f837",
   "metadata": {},
   "outputs": [
    {
     "data": {
      "text/plain": [
       "<matplotlib.image.AxesImage at 0x21229c71dd0>"
      ]
     },
     "execution_count": 29,
     "metadata": {},
     "output_type": "execute_result"
    },
    {
     "data": {
      "image/png": "[encoded data removed]",
      "text/plain": [
       "<Figure size 480x480 with 1 Axes>"
      ]
     },
     "metadata": {},
     "output_type": "display_data"
    }
   ],
   "source": [
    "plt.matshow(X_test[132],cmap=plt.cm.gray)"
   ]
  },
  {
   "cell_type": "code",
   "execution_count": 30,
   "id": "4ff4a3ac",
   "metadata": {},
   "outputs": [
    {
     "data": {
      "text/plain": [
       "5"
      ]
     },
     "execution_count": 30,
     "metadata": {},
     "output_type": "execute_result"
    }
   ],
   "source": [
    "np.argmax(predicted[132])"
   ]
  },
  {
   "cell_type": "code",
   "execution_count": null,
   "id": "3e82565d",
   "metadata": {},
   "outputs": [],
   "source": []
  },
  {
   "cell_type": "code",
   "execution_count": null,
   "id": "80779921",
   "metadata": {},
   "outputs": [],
   "source": []
  },
  {
   "cell_type": "code",
   "execution_count": null,
   "id": "7053a1b0",
   "metadata": {},
   "outputs": [],
   "source": []
  }
 ],
 "metadata": {
  "kernelspec": {
   "display_name": "Python 3 (ipykernel)",
   "language": "python",
   "name": "python3"
  },
  "language_info": {
   "codemirror_mode": {
    "name": "ipython",
    "version": 3
   },
   "file_extension": ".py",
   "mimetype": "text/x-python",
   "name": "python",
   "nbconvert_exporter": "python",
   "pygments_lexer": "ipython3",
   "version": "3.11.5"
  }
 },
 "nbformat": 4,
 "nbformat_minor": 5
}
