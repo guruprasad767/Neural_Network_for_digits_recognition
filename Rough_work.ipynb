{
 "cells": [
  {
   "cell_type": "code",
   "execution_count": 1,
   "id": "6507fb19",
   "metadata": {},
   "outputs": [],
   "source": [
    "from tensorflow import keras"
   ]
  },
  {
   "cell_type": "code",
   "execution_count": 2,
   "id": "df057a51",
   "metadata": {},
   "outputs": [],
   "source": [
    "(x_train, y_train), (x_test, y_test) = keras.datasets.mnist.load_data()"
   ]
  },
  {
   "cell_type": "code",
   "execution_count": 3,
   "id": "08417e94",
   "metadata": {},
   "outputs": [
    {
     "data": {
      "text/plain": [
       "60000"
      ]
     },
     "execution_count": 3,
     "metadata": {},
     "output_type": "execute_result"
    }
   ],
   "source": [
    "len(x_train)"
   ]
  },
  {
   "cell_type": "code",
   "execution_count": 4,
   "id": "00dd95c9",
   "metadata": {},
   "outputs": [
    {
     "data": {
      "text/plain": [
       "10000"
      ]
     },
     "execution_count": 4,
     "metadata": {},
     "output_type": "execute_result"
    }
   ],
   "source": [
    "len(x_test)"
   ]
  },
  {
   "cell_type": "code",
   "execution_count": 5,
   "id": "51be3543",
   "metadata": {},
   "outputs": [
    {
     "data": {
      "text/plain": [
       "array([[  0,   0,   0,   0,   0,   0,   0,   0,   0,   0,   0,   0,   0,\n",
       "          0,   0,   0,   0,   0,   0,   0,   0,   0,   0,   0,   0,   0,\n",
       "          0,   0],\n",
       "       [  0,   0,   0,   0,   0,   0,   0,   0,   0,   0,   0,   0,   0,\n",
       "          0,   0,   0,   0,   0,   0,   0,   0,   0,   0,   0,   0,   0,\n",
       "          0,   0],\n",
       "       [  0,   0,   0,   0,   0,   0,   0,   0,   0,   0,   0,   0,   0,\n",
       "          0,   0,   0,   0,   0,   0,   0,   0,   0,   0,   0,   0,   0,\n",
       "          0,   0],\n",
       "       [  0,   0,   0,   0,   0,   0,   0,   0,   0,   0,   0,   0,   0,\n",
       "          0,   0,   0,   0,   0,   0,   0,   0,   0,   0,   0,   0,   0,\n",
       "          0,   0],\n",
       "       [  0,   0,   0,   0,   0,   0,   0,   0,   0,   0,   0,   0,   0,\n",
       "          0,   0,   0,   0,   0,   0,   0,   0,   0,   0,   0,   0,   0,\n",
       "          0,   0],\n",
       "       [  0,   0,   0,   0,   0,   0,   0,   0,   0,   0,   0,   0,   3,\n",
       "         18,  18,  18, 126, 136, 175,  26, 166, 255, 247, 127,   0,   0,\n",
       "          0,   0],\n",
       "       [  0,   0,   0,   0,   0,   0,   0,   0,  30,  36,  94, 154, 170,\n",
       "        253, 253, 253, 253, 253, 225, 172, 253, 242, 195,  64,   0,   0,\n",
       "          0,   0],\n",
       "       [  0,   0,   0,   0,   0,   0,   0,  49, 238, 253, 253, 253, 253,\n",
       "        253, 253, 253, 253, 251,  93,  82,  82,  56,  39,   0,   0,   0,\n",
       "          0,   0],\n",
       "       [  0,   0,   0,   0,   0,   0,   0,  18, 219, 253, 253, 253, 253,\n",
       "        253, 198, 182, 247, 241,   0,   0,   0,   0,   0,   0,   0,   0,\n",
       "          0,   0],\n",
       "       [  0,   0,   0,   0,   0,   0,   0,   0,  80, 156, 107, 253, 253,\n",
       "        205,  11,   0,  43, 154,   0,   0,   0,   0,   0,   0,   0,   0,\n",
       "          0,   0],\n",
       "       [  0,   0,   0,   0,   0,   0,   0,   0,   0,  14,   1, 154, 253,\n",
       "         90,   0,   0,   0,   0,   0,   0,   0,   0,   0,   0,   0,   0,\n",
       "          0,   0],\n",
       "       [  0,   0,   0,   0,   0,   0,   0,   0,   0,   0,   0, 139, 253,\n",
       "        190,   2,   0,   0,   0,   0,   0,   0,   0,   0,   0,   0,   0,\n",
       "          0,   0],\n",
       "       [  0,   0,   0,   0,   0,   0,   0,   0,   0,   0,   0,  11, 190,\n",
       "        253,  70,   0,   0,   0,   0,   0,   0,   0,   0,   0,   0,   0,\n",
       "          0,   0],\n",
       "       [  0,   0,   0,   0,   0,   0,   0,   0,   0,   0,   0,   0,  35,\n",
       "        241, 225, 160, 108,   1,   0,   0,   0,   0,   0,   0,   0,   0,\n",
       "          0,   0],\n",
       "       [  0,   0,   0,   0,   0,   0,   0,   0,   0,   0,   0,   0,   0,\n",
       "         81, 240, 253, 253, 119,  25,   0,   0,   0,   0,   0,   0,   0,\n",
       "          0,   0],\n",
       "       [  0,   0,   0,   0,   0,   0,   0,   0,   0,   0,   0,   0,   0,\n",
       "          0,  45, 186, 253, 253, 150,  27,   0,   0,   0,   0,   0,   0,\n",
       "          0,   0],\n",
       "       [  0,   0,   0,   0,   0,   0,   0,   0,   0,   0,   0,   0,   0,\n",
       "          0,   0,  16,  93, 252, 253, 187,   0,   0,   0,   0,   0,   0,\n",
       "          0,   0],\n",
       "       [  0,   0,   0,   0,   0,   0,   0,   0,   0,   0,   0,   0,   0,\n",
       "          0,   0,   0,   0, 249, 253, 249,  64,   0,   0,   0,   0,   0,\n",
       "          0,   0],\n",
       "       [  0,   0,   0,   0,   0,   0,   0,   0,   0,   0,   0,   0,   0,\n",
       "          0,  46, 130, 183, 253, 253, 207,   2,   0,   0,   0,   0,   0,\n",
       "          0,   0],\n",
       "       [  0,   0,   0,   0,   0,   0,   0,   0,   0,   0,   0,   0,  39,\n",
       "        148, 229, 253, 253, 253, 250, 182,   0,   0,   0,   0,   0,   0,\n",
       "          0,   0],\n",
       "       [  0,   0,   0,   0,   0,   0,   0,   0,   0,   0,  24, 114, 221,\n",
       "        253, 253, 253, 253, 201,  78,   0,   0,   0,   0,   0,   0,   0,\n",
       "          0,   0],\n",
       "       [  0,   0,   0,   0,   0,   0,   0,   0,  23,  66, 213, 253, 253,\n",
       "        253, 253, 198,  81,   2,   0,   0,   0,   0,   0,   0,   0,   0,\n",
       "          0,   0],\n",
       "       [  0,   0,   0,   0,   0,   0,  18, 171, 219, 253, 253, 253, 253,\n",
       "        195,  80,   9,   0,   0,   0,   0,   0,   0,   0,   0,   0,   0,\n",
       "          0,   0],\n",
       "       [  0,   0,   0,   0,  55, 172, 226, 253, 253, 253, 253, 244, 133,\n",
       "         11,   0,   0,   0,   0,   0,   0,   0,   0,   0,   0,   0,   0,\n",
       "          0,   0],\n",
       "       [  0,   0,   0,   0, 136, 253, 253, 253, 212, 135, 132,  16,   0,\n",
       "          0,   0,   0,   0,   0,   0,   0,   0,   0,   0,   0,   0,   0,\n",
       "          0,   0],\n",
       "       [  0,   0,   0,   0,   0,   0,   0,   0,   0,   0,   0,   0,   0,\n",
       "          0,   0,   0,   0,   0,   0,   0,   0,   0,   0,   0,   0,   0,\n",
       "          0,   0],\n",
       "       [  0,   0,   0,   0,   0,   0,   0,   0,   0,   0,   0,   0,   0,\n",
       "          0,   0,   0,   0,   0,   0,   0,   0,   0,   0,   0,   0,   0,\n",
       "          0,   0],\n",
       "       [  0,   0,   0,   0,   0,   0,   0,   0,   0,   0,   0,   0,   0,\n",
       "          0,   0,   0,   0,   0,   0,   0,   0,   0,   0,   0,   0,   0,\n",
       "          0,   0]], dtype=uint8)"
      ]
     },
     "execution_count": 5,
     "metadata": {},
     "output_type": "execute_result"
    }
   ],
   "source": [
    "x_train[0]"
   ]
  },
  {
   "cell_type": "code",
   "execution_count": 6,
   "id": "693f899c",
   "metadata": {},
   "outputs": [],
   "source": [
    "import matplotlib.pyplot as plt\n",
    "%matplotlib inline"
   ]
  },
  {
   "cell_type": "code",
   "execution_count": 7,
   "id": "e723d421",
   "metadata": {},
   "outputs": [
    {
     "data": {
      "text/plain": [
       "<matplotlib.image.AxesImage at 0x21820b0edd0>"
      ]
     },
     "execution_count": 7,
     "metadata": {},
     "output_type": "execute_result"
    },
    {
     "data": {
      "image/png": "[encoded data removed]",
      "text/plain": [
       "<Figure size 480x480 with 1 Axes>"
      ]
     },
     "metadata": {},
     "output_type": "display_data"
    }
   ],
   "source": [
    "plt.matshow(x_train[0])"
   ]
  },
  {
   "cell_type": "code",
   "execution_count": 8,
   "id": "9de350a0",
   "metadata": {},
   "outputs": [
    {
     "data": {
      "text/plain": [
       "5"
      ]
     },
     "execution_count": 8,
     "metadata": {},
     "output_type": "execute_result"
    }
   ],
   "source": [
    "y_train[0]"
   ]
  },
  {
   "cell_type": "code",
   "execution_count": 9,
   "id": "ad4580a3",
   "metadata": {},
   "outputs": [],
   "source": [
    "x_train_flat = x_train.reshape(len(x_train), 28*28)\n",
    "x_test_flat = x_test.reshape(len(x_test), 28*28)"
   ]
  },
  {
   "cell_type": "code",
   "execution_count": 10,
   "id": "d18f471b",
   "metadata": {},
   "outputs": [
    {
     "data": {
      "text/plain": [
       "(784,)"
      ]
     },
     "execution_count": 10,
     "metadata": {},
     "output_type": "execute_result"
    }
   ],
   "source": [
    "x_train_flat[0].shape"
   ]
  },
  {
   "cell_type": "code",
   "execution_count": 11,
   "id": "44f79dea",
   "metadata": {},
   "outputs": [],
   "source": [
    "x_train_flat = x_train_flat / 255\n",
    "x_test_flat = x_test_flat / 255"
   ]
  },
  {
   "cell_type": "code",
   "execution_count": 12,
   "id": "fddf60dd",
   "metadata": {},
   "outputs": [
    {
     "data": {
      "text/plain": [
       "(60000, 784)"
      ]
     },
     "execution_count": 12,
     "metadata": {},
     "output_type": "execute_result"
    }
   ],
   "source": [
    "x_train_flat.shape"
   ]
  },
  {
   "cell_type": "code",
   "execution_count": 13,
   "id": "3808bac1",
   "metadata": {},
   "outputs": [],
   "source": [
    "import numpy as np"
   ]
  },
  {
   "cell_type": "code",
   "execution_count": 14,
   "id": "1a76ce08",
   "metadata": {},
   "outputs": [],
   "source": [
    "weights = np.random.rand(784,10)"
   ]
  },
  {
   "cell_type": "code",
   "execution_count": 15,
   "id": "a7671cd0",
   "metadata": {},
   "outputs": [
    {
     "data": {
      "text/plain": [
       "(784, 10)"
      ]
     },
     "execution_count": 15,
     "metadata": {},
     "output_type": "execute_result"
    }
   ],
   "source": [
    "weights.shape"
   ]
  },
  {
   "cell_type": "code",
   "execution_count": 16,
   "id": "6b37c721",
   "metadata": {},
   "outputs": [],
   "source": [
    "biases = np.random.rand(10)"
   ]
  },
  {
   "cell_type": "code",
   "execution_count": 17,
   "id": "10dc63b4",
   "metadata": {},
   "outputs": [],
   "source": [
    "weighted_sum = np.dot(x_train_flat,weights)"
   ]
  },
  {
   "cell_type": "code",
   "execution_count": 18,
   "id": "95151806",
   "metadata": {},
   "outputs": [
    {
     "data": {
      "text/plain": [
       "(60000, 10)"
      ]
     },
     "execution_count": 18,
     "metadata": {},
     "output_type": "execute_result"
    }
   ],
   "source": [
    "weighted_sum.shape"
   ]
  },
  {
   "cell_type": "code",
   "execution_count": 19,
   "id": "d25b8478",
   "metadata": {},
   "outputs": [
    {
     "data": {
      "text/plain": [
       "array([52.21114611, 58.70308023, 54.91260943, 54.22662345, 51.88418486,\n",
       "       49.53866624, 57.32120704, 52.91197119, 51.63099553, 52.50481274])"
      ]
     },
     "execution_count": 19,
     "metadata": {},
     "output_type": "execute_result"
    }
   ],
   "source": [
    "weighted_sum[0]"
   ]
  },
  {
   "cell_type": "code",
   "execution_count": 20,
   "id": "4efde1e7",
   "metadata": {},
   "outputs": [
    {
     "data": {
      "text/plain": [
       "array([52.66586578, 59.20911719, 54.99802417, 54.55151533, 51.90880046,\n",
       "       50.24326267, 57.33029945, 53.40160129, 52.22758065, 52.65358714])"
      ]
     },
     "execution_count": 20,
     "metadata": {},
     "output_type": "execute_result"
    }
   ],
   "source": [
    "temp = weighted_sum[0] + biases\n",
    "temp"
   ]
  },
  {
   "cell_type": "code",
   "execution_count": 21,
   "id": "136a27f9",
   "metadata": {},
   "outputs": [
    {
     "data": {
      "text/plain": [
       "array([52.66586578, 59.20911719, 54.99802417, 54.55151533, 51.90880046,\n",
       "       50.24326267, 57.33029945, 53.40160129, 52.22758065, 52.65358714])"
      ]
     },
     "execution_count": 21,
     "metadata": {},
     "output_type": "execute_result"
    }
   ],
   "source": [
    "weighted_sum_with_bias = weighted_sum + biases\n",
    "weighted_sum_with_bias[0]"
   ]
  },
  {
   "cell_type": "code",
   "execution_count": null,
   "id": "eff3eec9",
   "metadata": {},
   "outputs": [],
   "source": []
  },
  {
   "cell_type": "code",
   "execution_count": 22,
   "id": "3714489f",
   "metadata": {},
   "outputs": [],
   "source": [
    "def sigmoid(z):\n",
    "    return 1/(1+np.exp(-z))"
   ]
  },
  {
   "cell_type": "code",
   "execution_count": 23,
   "id": "afd91833",
   "metadata": {},
   "outputs": [
    {
     "data": {
      "text/plain": [
       "0.9999938558253978"
      ]
     },
     "execution_count": 23,
     "metadata": {},
     "output_type": "execute_result"
    }
   ],
   "source": [
    "sigmoid(12)"
   ]
  },
  {
   "cell_type": "code",
   "execution_count": 24,
   "id": "48d915f9",
   "metadata": {},
   "outputs": [
    {
     "data": {
      "text/plain": [
       "numpy.ndarray"
      ]
     },
     "execution_count": 24,
     "metadata": {},
     "output_type": "execute_result"
    }
   ],
   "source": [
    "type(weighted_sum_with_bias)"
   ]
  },
  {
   "cell_type": "code",
   "execution_count": 25,
   "id": "d06f66dc",
   "metadata": {},
   "outputs": [],
   "source": [
    "converted = sigmoid(weighted_sum_with_bias)"
   ]
  },
  {
   "cell_type": "code",
   "execution_count": 26,
   "id": "95ecc689",
   "metadata": {},
   "outputs": [
    {
     "data": {
      "text/plain": [
       "array([1., 1., 1., 1., 1., 1., 1., 1., 1., 1.])"
      ]
     },
     "execution_count": 26,
     "metadata": {},
     "output_type": "execute_result"
    }
   ],
   "source": [
    "converted[1100]"
   ]
  },
  {
   "cell_type": "code",
   "execution_count": 27,
   "id": "9e16d058",
   "metadata": {},
   "outputs": [],
   "source": [
    "#Initializing weights with np.random.rand was a bad idea.\n",
    "#We have to use 'Xavier (Glorot) initialization' which create ndarray having random values between -limit to limit\n",
    "#where, limit = np.sqrt(6 / (input_dim + output_dim))"
   ]
  },
  {
   "cell_type": "code",
   "execution_count": 28,
   "id": "42472037",
   "metadata": {},
   "outputs": [],
   "source": [
    "def xavier_init(input_dim, output_dim):\n",
    "    limit = np.sqrt(6 / (input_dim + output_dim))\n",
    "    return np.random.uniform(-limit, limit, (input_dim, output_dim))"
   ]
  },
  {
   "cell_type": "code",
   "execution_count": 29,
   "id": "a9572209",
   "metadata": {},
   "outputs": [],
   "source": [
    "weights2 = xavier_init(784,10)"
   ]
  },
  {
   "cell_type": "code",
   "execution_count": 30,
   "id": "84daebb7",
   "metadata": {},
   "outputs": [
    {
     "data": {
      "text/plain": [
       "(784, 10)"
      ]
     },
     "execution_count": 30,
     "metadata": {},
     "output_type": "execute_result"
    }
   ],
   "source": [
    "weights2.shape"
   ]
  },
  {
   "cell_type": "code",
   "execution_count": 31,
   "id": "65f9df80",
   "metadata": {},
   "outputs": [
    {
     "data": {
      "text/plain": [
       "array([[-0.08533527,  0.00657664, -0.06505747, ..., -0.03370108,\n",
       "        -0.03854999,  0.02476039],\n",
       "       [ 0.02978449, -0.05862207,  0.04036972, ..., -0.07027214,\n",
       "         0.05792596, -0.06326071],\n",
       "       [-0.03743314,  0.08238474, -0.01329539, ...,  0.05481328,\n",
       "         0.00686236, -0.07477059],\n",
       "       ...,\n",
       "       [-0.04807568, -0.07311768,  0.00572454, ...,  0.06903432,\n",
       "        -0.05326709, -0.00116183],\n",
       "       [ 0.0632037 ,  0.06938397,  0.02917416, ...,  0.06700113,\n",
       "         0.06006059, -0.06980342],\n",
       "       [ 0.00382119,  0.0778531 , -0.06654147, ...,  0.07509958,\n",
       "        -0.03419667, -0.06296012]])"
      ]
     },
     "execution_count": 31,
     "metadata": {},
     "output_type": "execute_result"
    }
   ],
   "source": [
    "weights2"
   ]
  },
  {
   "cell_type": "code",
   "execution_count": 32,
   "id": "51497132",
   "metadata": {},
   "outputs": [],
   "source": [
    "biases2 = np.zeros(10)"
   ]
  },
  {
   "cell_type": "code",
   "execution_count": 33,
   "id": "b7fad6b1",
   "metadata": {},
   "outputs": [],
   "source": [
    "weighted_sum2 = np.dot(x_train_flat,weights2)"
   ]
  },
  {
   "cell_type": "code",
   "execution_count": 34,
   "id": "ea53a00a",
   "metadata": {},
   "outputs": [
    {
     "data": {
      "text/plain": [
       "array([-0.62985868,  0.767819  , -0.24118917,  0.59546558, -0.37171514,\n",
       "       -0.18313675, -0.41075056, -0.80493016,  0.24285727, -0.48972973])"
      ]
     },
     "execution_count": 34,
     "metadata": {},
     "output_type": "execute_result"
    }
   ],
   "source": [
    "weighted_sum2[0]"
   ]
  },
  {
   "cell_type": "code",
   "execution_count": 35,
   "id": "8d8ec18c",
   "metadata": {},
   "outputs": [
    {
     "data": {
      "text/plain": [
       "array([-0.62985868,  0.767819  , -0.24118917,  0.59546558, -0.37171514,\n",
       "       -0.18313675, -0.41075056, -0.80493016,  0.24285727, -0.48972973])"
      ]
     },
     "execution_count": 35,
     "metadata": {},
     "output_type": "execute_result"
    }
   ],
   "source": [
    "weighted_sum_with_bias2 = weighted_sum2 + biases2\n",
    "weighted_sum_with_bias2[0]"
   ]
  },
  {
   "cell_type": "code",
   "execution_count": 36,
   "id": "1088c8d8",
   "metadata": {},
   "outputs": [],
   "source": [
    "converted2 = sigmoid(weighted_sum_with_bias2)"
   ]
  },
  {
   "cell_type": "code",
   "execution_count": 37,
   "id": "7ae6db6f",
   "metadata": {},
   "outputs": [
    {
     "data": {
      "text/plain": [
       "array([0.39715234, 0.72296204, 0.40723269, 0.47315866, 0.45145058,\n",
       "       0.53397693, 0.42719758, 0.49198018, 0.6130235 , 0.35342048])"
      ]
     },
     "execution_count": 37,
     "metadata": {},
     "output_type": "execute_result"
    }
   ],
   "source": [
    "converted2[1110]"
   ]
  },
  {
   "cell_type": "code",
   "execution_count": 38,
   "id": "1b796daa",
   "metadata": {},
   "outputs": [
    {
     "data": {
      "text/plain": [
       "4"
      ]
     },
     "execution_count": 38,
     "metadata": {},
     "output_type": "execute_result"
    }
   ],
   "source": [
    "y_train[1110]"
   ]
  },
  {
   "cell_type": "markdown",
   "id": "c546b61d",
   "metadata": {},
   "source": [
    "<br>We are using 'cross entropy' as our cost function\n",
    "<br>For this example,\n",
    "<br>no. of classes(C) = 10\n",
    "<br>True Label (yi) =[0,0,0,0,1,0,0,0,0,0]\n",
    "<br>Predicted Probabilities (ŷi) =<br>[0.57303145,0.36212473,0.69424093,0.49122441,0.41934316,0.75315564,0.41371833,0.37085489,0.65569926,0.61291109]\n",
    "<br>formula- loss = ∑(i=0 to C ) yi log(ŷi)\n",
    "\n",
    "<br>Calculate the loss:\n",
    "<br>For class 0- 0 * log(0.57303145) = 0\n",
    "<br>For class 1- 0 * log(0.36212473) = 0\n",
    "<br>For class 4- 1 * log(0.41934316) = -0.86906569664218\n",
    "<br>For class 9- 0 * log(0.36212473) = 0\n",
    "\n",
    "<br><br>Summation = -(0 + 0 + 0 + 0 - 0.86906569664218 + 0 + 0...)\n",
    "    <br>= 0.86906569664218\n",
    "    \n",
    "<br>So, for each dataset, we can only calculate value of i'th class and take negative of it."
   ]
  },
  {
   "cell_type": "code",
   "execution_count": 39,
   "id": "e376c9a7",
   "metadata": {},
   "outputs": [],
   "source": [
    "def cross_entropy(predicted, correct_class):\n",
    "    if predicted[correct_class]!=0:\n",
    "        return -1 * ( 1 * np.log( predicted[correct_class]))\n",
    "    else:\n",
    "        return -1 * ( 1 * np.log( 0.000001))"
   ]
  },
  {
   "cell_type": "code",
   "execution_count": 40,
   "id": "0a0600ca",
   "metadata": {},
   "outputs": [
    {
     "data": {
      "text/plain": [
       "0.7952893657319493"
      ]
     },
     "execution_count": 40,
     "metadata": {},
     "output_type": "execute_result"
    }
   ],
   "source": [
    "cross_entropy(predicted = converted2[1110], correct_class = y_train[1110])"
   ]
  },
  {
   "cell_type": "code",
   "execution_count": 41,
   "id": "96af7228",
   "metadata": {},
   "outputs": [],
   "source": [
    "losses = np.zeros( len(x_train) )\n",
    "\n",
    "for i in range( len(x_train) ):\n",
    "    losses[i] = cross_entropy(converted2[i], y_train[i])"
   ]
  },
  {
   "cell_type": "code",
   "execution_count": 42,
   "id": "b2d1dbd7",
   "metadata": {},
   "outputs": [
    {
     "data": {
      "text/plain": [
       "array([0.78890209, 1.10512853, 0.82699662, 0.65092577, 1.26325323])"
      ]
     },
     "execution_count": 42,
     "metadata": {},
     "output_type": "execute_result"
    }
   ],
   "source": [
    "losses[:5]"
   ]
  },
  {
   "cell_type": "code",
   "execution_count": 43,
   "id": "b406e996",
   "metadata": {},
   "outputs": [
    {
     "data": {
      "text/plain": [
       "0.7952893657319493"
      ]
     },
     "execution_count": 43,
     "metadata": {},
     "output_type": "execute_result"
    }
   ],
   "source": [
    "losses[1110]"
   ]
  },
  {
   "cell_type": "code",
   "execution_count": 44,
   "id": "a5d52cd2",
   "metadata": {},
   "outputs": [],
   "source": [
    "final_loss = np.mean(losses)"
   ]
  },
  {
   "cell_type": "code",
   "execution_count": 45,
   "id": "acbd53d5",
   "metadata": {},
   "outputs": [
    {
     "data": {
      "text/plain": [
       "0.7594345717270041"
      ]
     },
     "execution_count": 45,
     "metadata": {},
     "output_type": "execute_result"
    }
   ],
   "source": [
    "final_loss"
   ]
  },
  {
   "cell_type": "code",
   "execution_count": 46,
   "id": "10770b0c",
   "metadata": {},
   "outputs": [],
   "source": [
    "learning_rate = 0.001"
   ]
  },
  {
   "cell_type": "code",
   "execution_count": 47,
   "id": "95b192d8",
   "metadata": {},
   "outputs": [
    {
     "data": {
      "text/plain": [
       "array([0.        , 0.        , 0.        , 0.        , 0.        ,\n",
       "       0.        , 0.        , 0.        , 0.        , 0.        ,\n",
       "       0.        , 0.        , 0.        , 0.        , 0.        ,\n",
       "       0.        , 0.        , 0.        , 0.        , 0.        ,\n",
       "       0.        , 0.        , 0.        , 0.        , 0.        ,\n",
       "       0.        , 0.        , 0.        , 0.        , 0.        ,\n",
       "       0.        , 0.        , 0.        , 0.        , 0.        ,\n",
       "       0.        , 0.        , 0.        , 0.        , 0.        ,\n",
       "       0.        , 0.        , 0.        , 0.        , 0.        ,\n",
       "       0.        , 0.        , 0.        , 0.        , 0.        ,\n",
       "       0.        , 0.        , 0.        , 0.        , 0.        ,\n",
       "       0.        , 0.        , 0.        , 0.        , 0.        ,\n",
       "       0.        , 0.        , 0.        , 0.        , 0.        ,\n",
       "       0.        , 0.        , 0.        , 0.        , 0.        ,\n",
       "       0.        , 0.        , 0.        , 0.        , 0.        ,\n",
       "       0.        , 0.        , 0.        , 0.        , 0.        ,\n",
       "       0.        , 0.        , 0.        , 0.        , 0.        ,\n",
       "       0.        , 0.        , 0.        , 0.        , 0.        ,\n",
       "       0.        , 0.        , 0.        , 0.        , 0.        ,\n",
       "       0.        , 0.        , 0.        , 0.        , 0.        ,\n",
       "       0.        , 0.        , 0.        , 0.        , 0.        ,\n",
       "       0.        , 0.        , 0.        , 0.        , 0.        ,\n",
       "       0.        , 0.        , 0.        , 0.        , 0.        ,\n",
       "       0.        , 0.        , 0.        , 0.        , 0.        ,\n",
       "       0.        , 0.        , 0.        , 0.        , 0.        ,\n",
       "       0.        , 0.        , 0.        , 0.        , 0.        ,\n",
       "       0.        , 0.        , 0.        , 0.        , 0.        ,\n",
       "       0.        , 0.        , 0.        , 0.        , 0.        ,\n",
       "       0.        , 0.        , 0.        , 0.        , 0.        ,\n",
       "       0.        , 0.        , 0.        , 0.        , 0.        ,\n",
       "       0.        , 0.        , 0.01176471, 0.07058824, 0.07058824,\n",
       "       0.07058824, 0.49411765, 0.53333333, 0.68627451, 0.10196078,\n",
       "       0.65098039, 1.        , 0.96862745, 0.49803922, 0.        ,\n",
       "       0.        , 0.        , 0.        , 0.        , 0.        ,\n",
       "       0.        , 0.        , 0.        , 0.        , 0.        ,\n",
       "       0.        , 0.11764706, 0.14117647, 0.36862745, 0.60392157,\n",
       "       0.66666667, 0.99215686, 0.99215686, 0.99215686, 0.99215686,\n",
       "       0.99215686, 0.88235294, 0.6745098 , 0.99215686, 0.94901961,\n",
       "       0.76470588, 0.25098039, 0.        , 0.        , 0.        ,\n",
       "       0.        , 0.        , 0.        , 0.        , 0.        ,\n",
       "       0.        , 0.        , 0.        , 0.19215686, 0.93333333,\n",
       "       0.99215686, 0.99215686, 0.99215686, 0.99215686, 0.99215686,\n",
       "       0.99215686, 0.99215686, 0.99215686, 0.98431373, 0.36470588,\n",
       "       0.32156863, 0.32156863, 0.21960784, 0.15294118, 0.        ,\n",
       "       0.        , 0.        , 0.        , 0.        , 0.        ,\n",
       "       0.        , 0.        , 0.        , 0.        , 0.        ,\n",
       "       0.        , 0.07058824, 0.85882353, 0.99215686, 0.99215686,\n",
       "       0.99215686, 0.99215686, 0.99215686, 0.77647059, 0.71372549,\n",
       "       0.96862745, 0.94509804, 0.        , 0.        , 0.        ,\n",
       "       0.        , 0.        , 0.        , 0.        , 0.        ,\n",
       "       0.        , 0.        , 0.        , 0.        , 0.        ,\n",
       "       0.        , 0.        , 0.        , 0.        , 0.        ,\n",
       "       0.31372549, 0.61176471, 0.41960784, 0.99215686, 0.99215686,\n",
       "       0.80392157, 0.04313725, 0.        , 0.16862745, 0.60392157,\n",
       "       0.        , 0.        , 0.        , 0.        , 0.        ,\n",
       "       0.        , 0.        , 0.        , 0.        , 0.        ,\n",
       "       0.        , 0.        , 0.        , 0.        , 0.        ,\n",
       "       0.        , 0.        , 0.        , 0.        , 0.05490196,\n",
       "       0.00392157, 0.60392157, 0.99215686, 0.35294118, 0.        ,\n",
       "       0.        , 0.        , 0.        , 0.        , 0.        ,\n",
       "       0.        , 0.        , 0.        , 0.        , 0.        ,\n",
       "       0.        , 0.        , 0.        , 0.        , 0.        ,\n",
       "       0.        , 0.        , 0.        , 0.        , 0.        ,\n",
       "       0.        , 0.        , 0.        , 0.        , 0.54509804,\n",
       "       0.99215686, 0.74509804, 0.00784314, 0.        , 0.        ,\n",
       "       0.        , 0.        , 0.        , 0.        , 0.        ,\n",
       "       0.        , 0.        , 0.        , 0.        , 0.        ,\n",
       "       0.        , 0.        , 0.        , 0.        , 0.        ,\n",
       "       0.        , 0.        , 0.        , 0.        , 0.        ,\n",
       "       0.        , 0.        , 0.04313725, 0.74509804, 0.99215686,\n",
       "       0.2745098 , 0.        , 0.        , 0.        , 0.        ,\n",
       "       0.        , 0.        , 0.        , 0.        , 0.        ,\n",
       "       0.        , 0.        , 0.        , 0.        , 0.        ,\n",
       "       0.        , 0.        , 0.        , 0.        , 0.        ,\n",
       "       0.        , 0.        , 0.        , 0.        , 0.        ,\n",
       "       0.        , 0.1372549 , 0.94509804, 0.88235294, 0.62745098,\n",
       "       0.42352941, 0.00392157, 0.        , 0.        , 0.        ,\n",
       "       0.        , 0.        , 0.        , 0.        , 0.        ,\n",
       "       0.        , 0.        , 0.        , 0.        , 0.        ,\n",
       "       0.        , 0.        , 0.        , 0.        , 0.        ,\n",
       "       0.        , 0.        , 0.        , 0.        , 0.        ,\n",
       "       0.31764706, 0.94117647, 0.99215686, 0.99215686, 0.46666667,\n",
       "       0.09803922, 0.        , 0.        , 0.        , 0.        ,\n",
       "       0.        , 0.        , 0.        , 0.        , 0.        ,\n",
       "       0.        , 0.        , 0.        , 0.        , 0.        ,\n",
       "       0.        , 0.        , 0.        , 0.        , 0.        ,\n",
       "       0.        , 0.        , 0.        , 0.        , 0.17647059,\n",
       "       0.72941176, 0.99215686, 0.99215686, 0.58823529, 0.10588235,\n",
       "       0.        , 0.        , 0.        , 0.        , 0.        ,\n",
       "       0.        , 0.        , 0.        , 0.        , 0.        ,\n",
       "       0.        , 0.        , 0.        , 0.        , 0.        ,\n",
       "       0.        , 0.        , 0.        , 0.        , 0.        ,\n",
       "       0.        , 0.        , 0.        , 0.0627451 , 0.36470588,\n",
       "       0.98823529, 0.99215686, 0.73333333, 0.        , 0.        ,\n",
       "       0.        , 0.        , 0.        , 0.        , 0.        ,\n",
       "       0.        , 0.        , 0.        , 0.        , 0.        ,\n",
       "       0.        , 0.        , 0.        , 0.        , 0.        ,\n",
       "       0.        , 0.        , 0.        , 0.        , 0.        ,\n",
       "       0.        , 0.        , 0.        , 0.97647059, 0.99215686,\n",
       "       0.97647059, 0.25098039, 0.        , 0.        , 0.        ,\n",
       "       0.        , 0.        , 0.        , 0.        , 0.        ,\n",
       "       0.        , 0.        , 0.        , 0.        , 0.        ,\n",
       "       0.        , 0.        , 0.        , 0.        , 0.        ,\n",
       "       0.        , 0.        , 0.        , 0.18039216, 0.50980392,\n",
       "       0.71764706, 0.99215686, 0.99215686, 0.81176471, 0.00784314,\n",
       "       0.        , 0.        , 0.        , 0.        , 0.        ,\n",
       "       0.        , 0.        , 0.        , 0.        , 0.        ,\n",
       "       0.        , 0.        , 0.        , 0.        , 0.        ,\n",
       "       0.        , 0.        , 0.        , 0.        , 0.15294118,\n",
       "       0.58039216, 0.89803922, 0.99215686, 0.99215686, 0.99215686,\n",
       "       0.98039216, 0.71372549, 0.        , 0.        , 0.        ,\n",
       "       0.        , 0.        , 0.        , 0.        , 0.        ,\n",
       "       0.        , 0.        , 0.        , 0.        , 0.        ,\n",
       "       0.        , 0.        , 0.        , 0.        , 0.        ,\n",
       "       0.09411765, 0.44705882, 0.86666667, 0.99215686, 0.99215686,\n",
       "       0.99215686, 0.99215686, 0.78823529, 0.30588235, 0.        ,\n",
       "       0.        , 0.        , 0.        , 0.        , 0.        ,\n",
       "       0.        , 0.        , 0.        , 0.        , 0.        ,\n",
       "       0.        , 0.        , 0.        , 0.        , 0.        ,\n",
       "       0.        , 0.09019608, 0.25882353, 0.83529412, 0.99215686,\n",
       "       0.99215686, 0.99215686, 0.99215686, 0.77647059, 0.31764706,\n",
       "       0.00784314, 0.        , 0.        , 0.        , 0.        ,\n",
       "       0.        , 0.        , 0.        , 0.        , 0.        ,\n",
       "       0.        , 0.        , 0.        , 0.        , 0.        ,\n",
       "       0.        , 0.        , 0.07058824, 0.67058824, 0.85882353,\n",
       "       0.99215686, 0.99215686, 0.99215686, 0.99215686, 0.76470588,\n",
       "       0.31372549, 0.03529412, 0.        , 0.        , 0.        ,\n",
       "       0.        , 0.        , 0.        , 0.        , 0.        ,\n",
       "       0.        , 0.        , 0.        , 0.        , 0.        ,\n",
       "       0.        , 0.        , 0.        , 0.21568627, 0.6745098 ,\n",
       "       0.88627451, 0.99215686, 0.99215686, 0.99215686, 0.99215686,\n",
       "       0.95686275, 0.52156863, 0.04313725, 0.        , 0.        ,\n",
       "       0.        , 0.        , 0.        , 0.        , 0.        ,\n",
       "       0.        , 0.        , 0.        , 0.        , 0.        ,\n",
       "       0.        , 0.        , 0.        , 0.        , 0.        ,\n",
       "       0.        , 0.53333333, 0.99215686, 0.99215686, 0.99215686,\n",
       "       0.83137255, 0.52941176, 0.51764706, 0.0627451 , 0.        ,\n",
       "       0.        , 0.        , 0.        , 0.        , 0.        ,\n",
       "       0.        , 0.        , 0.        , 0.        , 0.        ,\n",
       "       0.        , 0.        , 0.        , 0.        , 0.        ,\n",
       "       0.        , 0.        , 0.        , 0.        , 0.        ,\n",
       "       0.        , 0.        , 0.        , 0.        , 0.        ,\n",
       "       0.        , 0.        , 0.        , 0.        , 0.        ,\n",
       "       0.        , 0.        , 0.        , 0.        , 0.        ,\n",
       "       0.        , 0.        , 0.        , 0.        , 0.        ,\n",
       "       0.        , 0.        , 0.        , 0.        , 0.        ,\n",
       "       0.        , 0.        , 0.        , 0.        , 0.        ,\n",
       "       0.        , 0.        , 0.        , 0.        , 0.        ,\n",
       "       0.        , 0.        , 0.        , 0.        , 0.        ,\n",
       "       0.        , 0.        , 0.        , 0.        , 0.        ,\n",
       "       0.        , 0.        , 0.        , 0.        , 0.        ,\n",
       "       0.        , 0.        , 0.        , 0.        , 0.        ,\n",
       "       0.        , 0.        , 0.        , 0.        , 0.        ,\n",
       "       0.        , 0.        , 0.        , 0.        , 0.        ,\n",
       "       0.        , 0.        , 0.        , 0.        , 0.        ,\n",
       "       0.        , 0.        , 0.        , 0.        , 0.        ,\n",
       "       0.        , 0.        , 0.        , 0.        ])"
      ]
     },
     "execution_count": 47,
     "metadata": {},
     "output_type": "execute_result"
    }
   ],
   "source": [
    "#Calculating gradient descent of firt weight with one data point-\n",
    "x_train_flat[0]"
   ]
  },
  {
   "cell_type": "code",
   "execution_count": 48,
   "id": "dcd6523d",
   "metadata": {},
   "outputs": [
    {
     "data": {
      "text/plain": [
       "5"
      ]
     },
     "execution_count": 48,
     "metadata": {},
     "output_type": "execute_result"
    }
   ],
   "source": [
    "y_train[0]"
   ]
  },
  {
   "cell_type": "code",
   "execution_count": 49,
   "id": "0746f5d4",
   "metadata": {},
   "outputs": [
    {
     "data": {
      "text/plain": [
       "(60000, 10)"
      ]
     },
     "execution_count": 49,
     "metadata": {},
     "output_type": "execute_result"
    }
   ],
   "source": [
    "converted2.shape"
   ]
  },
  {
   "cell_type": "code",
   "execution_count": 50,
   "id": "b9584bfb",
   "metadata": {},
   "outputs": [
    {
     "data": {
      "text/plain": [
       "0.0"
      ]
     },
     "execution_count": 50,
     "metadata": {},
     "output_type": "execute_result"
    }
   ],
   "source": [
    "partial_d = (converted2[0][0] - 0) * converted2[0][0] * (1-converted2[0][0]) * x_train_flat[0][0]\n",
    "partial_d"
   ]
  },
  {
   "cell_type": "code",
   "execution_count": 51,
   "id": "c298eb08",
   "metadata": {},
   "outputs": [
    {
     "data": {
      "text/plain": [
       "-0.08533526878575289"
      ]
     },
     "execution_count": 51,
     "metadata": {},
     "output_type": "execute_result"
    }
   ],
   "source": [
    "w1 = weights2[0][0] - learning_rate * partial_d\n",
    "w1"
   ]
  },
  {
   "cell_type": "code",
   "execution_count": 52,
   "id": "25901711",
   "metadata": {},
   "outputs": [
    {
     "data": {
      "text/plain": [
       "0.0"
      ]
     },
     "execution_count": 52,
     "metadata": {},
     "output_type": "execute_result"
    }
   ],
   "source": [
    "#This we have to do for all 60,000 samples-\n",
    "all_partial_d = np.zeros(len(x_train))\n",
    "for i in range(len(x_train)):\n",
    "    if y_train[i] == 0:    #since,we are on 0th neuron\n",
    "        flag = 1\n",
    "    else:\n",
    "        flag = 0\n",
    "        \n",
    "    all_partial_d[i] = (converted2[i][0] - flag) * converted2[i][0] * (1-converted2[i][0]) * x_train_flat[i][0]\n",
    "    \n",
    "partial_d = np.mean(all_partial_d)\n",
    "partial_d"
   ]
  },
  {
   "cell_type": "code",
   "execution_count": 53,
   "id": "e12bfec0",
   "metadata": {},
   "outputs": [
    {
     "data": {
      "text/plain": [
       "0.0"
      ]
     },
     "execution_count": 53,
     "metadata": {},
     "output_type": "execute_result"
    }
   ],
   "source": [
    "x_train_flat[0][0]   #this is the corner pixel, it will be 0 in 99.99% cases for all digits"
   ]
  },
  {
   "cell_type": "code",
   "execution_count": 54,
   "id": "ffe669d1",
   "metadata": {},
   "outputs": [
    {
     "data": {
      "text/plain": [
       "-0.08533526878575289"
      ]
     },
     "execution_count": 54,
     "metadata": {},
     "output_type": "execute_result"
    }
   ],
   "source": [
    "w1 = weights2[0][0] - learning_rate * partial_d\n",
    "w1"
   ]
  },
  {
   "cell_type": "code",
   "execution_count": 55,
   "id": "49cb7366",
   "metadata": {},
   "outputs": [],
   "source": [
    "#This we have apply for all weights in neuron-\n",
    "for j in range(784):\n",
    "    all_partial_d = np.zeros(len(x_train))\n",
    "    for i in range(len(x_train)):\n",
    "        if y_train[i] == 0:    #since,we are on 0th neuron\n",
    "            flag = 1\n",
    "        else:\n",
    "            flag = 0\n",
    "\n",
    "        all_partial_d[i] = (converted2[i][0] - flag) * converted2[i][0] * (1-converted2[i][0]) * x_train_flat[i][j]\n",
    "\n",
    "    partial_d = np.mean(all_partial_d)"
   ]
  },
  {
   "cell_type": "code",
   "execution_count": 56,
   "id": "61f31298",
   "metadata": {},
   "outputs": [
    {
     "data": {
      "text/plain": [
       "'\\nweights2_updated = weights2\\n\\nfor k in range(10):\\n    for j in range(784):\\n        all_partial_d = np.zeros(len(x_train))\\n        for i in range(len(x_train)):\\n            if y_train[i] == k:\\n                flag = 1\\n            else:\\n                flag = 0\\n\\n            all_partial_d[i] = (converted2[i][k] - flag) * converted2[i][k] * (1-converted2[i][k]) * x_train_flat[i][j]\\n\\n        partial_d = np.mean(all_partial_d)\\n        weights2_updated[j][k] -= (learning_rate * partial_d)\\n'"
      ]
     },
     "execution_count": 56,
     "metadata": {},
     "output_type": "execute_result"
    }
   ],
   "source": [
    "'''\n",
    "weights2_updated = weights2\n",
    "\n",
    "for k in range(10):\n",
    "    for j in range(784):\n",
    "        all_partial_d = np.zeros(len(x_train))\n",
    "        for i in range(len(x_train)):\n",
    "            if y_train[i] == k:\n",
    "                flag = 1\n",
    "            else:\n",
    "                flag = 0\n",
    "\n",
    "            all_partial_d[i] = (converted2[i][k] - flag) * converted2[i][k] * (1-converted2[i][k]) * x_train_flat[i][j]\n",
    "\n",
    "        partial_d = np.mean(all_partial_d)\n",
    "        weights2_updated[j][k] -= (learning_rate * partial_d)\n",
    "'''\n",
    "#This code is corret but taking very high time to execute"
   ]
  },
  {
   "cell_type": "code",
   "execution_count": 57,
   "id": "c3520906",
   "metadata": {},
   "outputs": [],
   "source": [
    "#Prediction function and accuracy function we will write directly in main code."
   ]
  },
  {
   "cell_type": "code",
   "execution_count": null,
   "id": "08763fd8",
   "metadata": {},
   "outputs": [],
   "source": []
  }
 ],
 "metadata": {
  "kernelspec": {
   "display_name": "Python 3 (ipykernel)",
   "language": "python",
   "name": "python3"
  },
  "language_info": {
   "codemirror_mode": {
    "name": "ipython",
    "version": 3
   },
   "file_extension": ".py",
   "mimetype": "text/x-python",
   "name": "python",
   "nbconvert_exporter": "python",
   "pygments_lexer": "ipython3",
   "version": "3.11.5"
  }
 },
 "nbformat": 4,
 "nbformat_minor": 5
}
