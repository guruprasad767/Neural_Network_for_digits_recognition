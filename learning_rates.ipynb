{
 "cells": [
  {
   "cell_type": "code",
   "execution_count": 1,
   "id": "8b5c431b",
   "metadata": {},
   "outputs": [],
   "source": [
    "import numpy as np\n",
    "import matplotlib.pyplot as plt\n",
    "%matplotlib inline"
   ]
  },
  {
   "cell_type": "code",
   "execution_count": 2,
   "id": "9364a684",
   "metadata": {},
   "outputs": [],
   "source": [
    "#importing and scaling handwritten digits dataset\n",
    "from tensorflow import keras\n",
    "\n",
    "(X_train, y_train) , (X_test, y_test) = keras.datasets.mnist.load_data()\n",
    "\n",
    "X_train_flat = X_train.reshape(len(X_train), 28*28)\n",
    "X_test_flat = X_test.reshape( len(X_test), 28*28)\n",
    "\n",
    "X_train_flat = X_train_flat / 255\n",
    "X_test_flat = X_test_flat / 255"
   ]
  },
  {
   "cell_type": "code",
   "execution_count": 3,
   "id": "d6a034da",
   "metadata": {},
   "outputs": [],
   "source": [
    "class My_Neural_network:\n",
    "    \n",
    "    def __init__ (self,units,input_shape):\n",
    "        self.units = units\n",
    "        self.input_shape = input_shape\n",
    "        self.weights = self.xavier_initializer(input_shape,units)\n",
    "        self.biases = np.zeros(units)\n",
    "        \n",
    "    def xavier_initializer(self,input_dim, output_dim):\n",
    "        limit = np.sqrt(6 / (input_dim + output_dim))\n",
    "        return np.random.uniform(-limit, limit, (input_dim, output_dim))\n",
    "    \n",
    "    def fit(self, x_train, y_train, epochs=5, learning_rate=0.001):\n",
    "        self.length = len(x_train)\n",
    "        self.y_encoded = np.eye(self.units)[y_train]\n",
    "        self.y_train = y_train\n",
    "        self.graph =[]\n",
    "        \n",
    "        self.prediction_matrix = np.dot(x_train,self.weights)\n",
    "        self.prediction_matrix = self.prediction_matrix + self.biases\n",
    "        self.prediction_matrix = self.sigmoid(self.prediction_matrix)\n",
    "        \n",
    "        for i in range(epochs):\n",
    "            self.prediction_matrix = np.dot(x_train,self.weights)\n",
    "            self.prediction_matrix = self.prediction_matrix + self.biases\n",
    "            self.prediction_matrix = self.sigmoid(self.prediction_matrix)\n",
    "            \n",
    "            self.graph.append(self.loss_calculation())\n",
    "            if (i+1)%50 == 0:\n",
    "                print(f\"Epoch- {i+1}   Loss- {self.loss_calculation()}\" )\n",
    "\n",
    "            temp = (self.prediction_matrix - self.y_encoded) * self.prediction_matrix * (1 - self.prediction_matrix)\n",
    "\n",
    "            w_gradients = np.dot( x_train.T, temp ) / self.length\n",
    "            self.weights = self.weights - (learning_rate * w_gradients)\n",
    "\n",
    "            b_gradients = np.mean(temp, axis=0)\n",
    "            self.biases = self.biases - (learning_rate * b_gradients)\n",
    "        \n",
    "    def loss_calculation(self):\n",
    "        total_loss=0\n",
    "        for i in range(self.length):\n",
    "            total_loss += self.cross_entropy(self.prediction_matrix[i],self.y_train[i])\n",
    "            \n",
    "        return total_loss / self.length\n",
    "        \n",
    "        \n",
    "    def sigmoid(self,z):\n",
    "        return 1/(1+np.exp(-z))\n",
    "    \n",
    "    def cross_entropy(self, prediction_matrix_value, y_train_value):\n",
    "        epsilon = 1e-6\n",
    "        return -np.log( prediction_matrix_value[y_train_value] + epsilon)\n",
    "    \n",
    "    def predict(self, x_test):\n",
    "        self.predicted_matrix = np.dot(x_test,self.weights)\n",
    "        self.predicted_matrix = self.predicted_matrix + self.biases\n",
    "        self.predicted_matrix = self.sigmoid(self.predicted_matrix)\n",
    "        return self.predicted_matrix\n",
    "    \n",
    "    def accuracy_score(self,predicted_matrix,y_test):\n",
    "        correct = 0\n",
    "        for i in range(len(predicted_matrix)):\n",
    "            if y_test[i] == np.argmax(predicted_matrix[i]):\n",
    "                correct += 1\n",
    "                \n",
    "        return correct/len(predicted_matrix)\n",
    "    "
   ]
  },
  {
   "cell_type": "code",
   "execution_count": 4,
   "id": "119e63b5",
   "metadata": {},
   "outputs": [],
   "source": [
    "model = My_Neural_network(10, input_shape=784)"
   ]
  },
  {
   "cell_type": "code",
   "execution_count": 5,
   "id": "3da64994",
   "metadata": {},
   "outputs": [
    {
     "data": {
      "text/plain": [
       "(784, 10)"
      ]
     },
     "execution_count": 5,
     "metadata": {},
     "output_type": "execute_result"
    }
   ],
   "source": [
    "model.weights.shape"
   ]
  },
  {
   "cell_type": "code",
   "execution_count": 6,
   "id": "24fdc346",
   "metadata": {},
   "outputs": [
    {
     "name": "stdout",
     "output_type": "stream",
     "text": [
      "Epoch- 50   Loss- 0.7484854175083363\n",
      "Epoch- 100   Loss- 0.6190853599712158\n",
      "Epoch- 150   Loss- 0.5750108797535198\n",
      "Epoch- 200   Loss- 0.5508781691516209\n",
      "Epoch- 250   Loss- 0.5352163256276382\n",
      "Epoch- 300   Loss- 0.5240294090732607\n"
     ]
    }
   ],
   "source": [
    "model.fit(X_train_flat, y_train, epochs=300, learning_rate=1)"
   ]
  },
  {
   "cell_type": "code",
   "execution_count": 7,
   "id": "e0cfe012",
   "metadata": {},
   "outputs": [],
   "source": [
    "predicred = model.predict(X_test_flat)"
   ]
  },
  {
   "cell_type": "code",
   "execution_count": 8,
   "id": "caea1a73",
   "metadata": {},
   "outputs": [
    {
     "data": {
      "text/plain": [
       "0.8946"
      ]
     },
     "execution_count": 8,
     "metadata": {},
     "output_type": "execute_result"
    }
   ],
   "source": [
    "model.accuracy_score(predicred,y_test)"
   ]
  },
  {
   "cell_type": "code",
   "execution_count": 9,
   "id": "2239ec05",
   "metadata": {},
   "outputs": [],
   "source": [
    "x = np.arange(1,301)"
   ]
  },
  {
   "cell_type": "code",
   "execution_count": 10,
   "id": "02b5314a",
   "metadata": {},
   "outputs": [
    {
     "data": {
      "text/plain": [
       "Text(0, 0.5, 'Cost Value')"
      ]
     },
     "execution_count": 10,
     "metadata": {},
     "output_type": "execute_result"
    },
    {
     "data": {
      "image/png": "[encoded data removed]",
      "text/plain": [
       "<Figure size 640x480 with 1 Axes>"
      ]
     },
     "metadata": {},
     "output_type": "display_data"
    }
   ],
   "source": [
    "plt.plot(x,model.graph)\n",
    "plt.title(\"Learning rate = 1\")\n",
    "plt.xlabel(\"Epochs\")\n",
    "plt.ylabel(\"Cost Value\")"
   ]
  },
  {
   "cell_type": "code",
   "execution_count": 11,
   "id": "cb2a8071",
   "metadata": {},
   "outputs": [
    {
     "data": {
      "text/plain": [
       "[0.7556452884997291,\n",
       " 3.0596256196613467,\n",
       " 2.94786820787112,\n",
       " 2.8233716364122747,\n",
       " 2.684906593474239,\n",
       " 2.532786870085478,\n",
       " 2.371845613422667,\n",
       " 2.214385253455839,\n",
       " 2.0733058615747084,\n",
       " 1.9499574896748995]"
      ]
     },
     "execution_count": 11,
     "metadata": {},
     "output_type": "execute_result"
    }
   ],
   "source": [
    "model.graph[:10]"
   ]
  },
  {
   "cell_type": "code",
   "execution_count": 12,
   "id": "afd2c75d",
   "metadata": {},
   "outputs": [],
   "source": [
    "model2 = My_Neural_network(10, input_shape=784)"
   ]
  },
  {
   "cell_type": "code",
   "execution_count": 13,
   "id": "44674ed3",
   "metadata": {},
   "outputs": [
    {
     "name": "stdout",
     "output_type": "stream",
     "text": [
      "Epoch- 50   Loss- 1.7226329923327381\n",
      "Epoch- 100   Loss- 1.4003331440722975\n",
      "Epoch- 150   Loss- 1.1886864837603137\n",
      "Epoch- 200   Loss- 1.0699426977873332\n",
      "Epoch- 250   Loss- 0.982204246560494\n",
      "Epoch- 300   Loss- 0.9067285581408374\n"
     ]
    }
   ],
   "source": [
    "model2.fit(X_train_flat, y_train, epochs=300, learning_rate=0.1)"
   ]
  },
  {
   "cell_type": "code",
   "execution_count": 14,
   "id": "21927f15",
   "metadata": {},
   "outputs": [
    {
     "data": {
      "text/plain": [
       "0.7936"
      ]
     },
     "execution_count": 14,
     "metadata": {},
     "output_type": "execute_result"
    }
   ],
   "source": [
    "predicred2 = model2.predict(X_test_flat)\n",
    "model2.accuracy_score(predicred2,y_test)"
   ]
  },
  {
   "cell_type": "code",
   "execution_count": 20,
   "id": "eeceb090",
   "metadata": {},
   "outputs": [
    {
     "data": {
      "text/plain": [
       "Text(0, 0.5, 'Cost Value')"
      ]
     },
     "execution_count": 20,
     "metadata": {},
     "output_type": "execute_result"
    },
    {
     "data": {
      "image/png": "[encoded data removed]",
      "text/plain": [
       "<Figure size 640x480 with 1 Axes>"
      ]
     },
     "metadata": {},
     "output_type": "display_data"
    }
   ],
   "source": [
    "plt.plot(x,model2.graph)\n",
    "plt.title(\"Learning rate = 0.1\")\n",
    "plt.xlabel(\"Epochs\")\n",
    "plt.ylabel(\"Cost Value\")"
   ]
  },
  {
   "cell_type": "code",
   "execution_count": 16,
   "id": "1422ff55",
   "metadata": {},
   "outputs": [
    {
     "data": {
      "text/plain": [
       "[0.7853977501966612,\n",
       " 0.9533616703341333,\n",
       " 1.094852070635284,\n",
       " 1.2083204916637913,\n",
       " 1.2992005726347344]"
      ]
     },
     "execution_count": 16,
     "metadata": {},
     "output_type": "execute_result"
    }
   ],
   "source": [
    "model2.graph[:5]"
   ]
  },
  {
   "cell_type": "code",
   "execution_count": 17,
   "id": "13e0bebb",
   "metadata": {},
   "outputs": [
    {
     "name": "stdout",
     "output_type": "stream",
     "text": [
      "Epoch- 50   Loss- 1.306285338374953\n",
      "Epoch- 100   Loss- 1.5361384855080897\n",
      "Epoch- 150   Loss- 1.6469015563064975\n",
      "Epoch- 200   Loss- 1.7016035455090193\n",
      "Epoch- 250   Loss- 1.7240619049116743\n",
      "Epoch- 300   Loss- 1.725817901268402\n"
     ]
    }
   ],
   "source": [
    "model3 = My_Neural_network(10, input_shape=784)\n",
    "model3.fit(X_train_flat, y_train, epochs=300, learning_rate=0.01)"
   ]
  },
  {
   "cell_type": "code",
   "execution_count": 18,
   "id": "e4d29983",
   "metadata": {},
   "outputs": [
    {
     "data": {
      "text/plain": [
       "0.7936"
      ]
     },
     "execution_count": 18,
     "metadata": {},
     "output_type": "execute_result"
    }
   ],
   "source": [
    "predicred3 = model3.predict(X_test_flat)\n",
    "model3.accuracy_score(predicred2,y_test)"
   ]
  },
  {
   "cell_type": "code",
   "execution_count": 21,
   "id": "797388f1",
   "metadata": {},
   "outputs": [
    {
     "data": {
      "text/plain": [
       "Text(0, 0.5, 'Cost Value')"
      ]
     },
     "execution_count": 21,
     "metadata": {},
     "output_type": "execute_result"
    },
    {
     "data": {
      "image/png": "[encoded data removed]",
      "text/plain": [
       "<Figure size 640x480 with 1 Axes>"
      ]
     },
     "metadata": {},
     "output_type": "display_data"
    }
   ],
   "source": [
    "plt.plot(x,model3.graph)\n",
    "plt.title(\"Learning rate = 0.01\")\n",
    "plt.xlabel(\"Epochs\")\n",
    "plt.ylabel(\"Cost Value\")"
   ]
  },
  {
   "cell_type": "code",
   "execution_count": null,
   "id": "dd223e7f",
   "metadata": {},
   "outputs": [],
   "source": []
  },
  {
   "cell_type": "code",
   "execution_count": null,
   "id": "147ad5ae",
   "metadata": {},
   "outputs": [],
   "source": []
  }
 ],
 "metadata": {
  "kernelspec": {
   "display_name": "Python 3 (ipykernel)",
   "language": "python",
   "name": "python3"
  },
  "language_info": {
   "codemirror_mode": {
    "name": "ipython",
    "version": 3
   },
   "file_extension": ".py",
   "mimetype": "text/x-python",
   "name": "python",
   "nbconvert_exporter": "python",
   "pygments_lexer": "ipython3",
   "version": "3.11.5"
  }
 },
 "nbformat": 4,
 "nbformat_minor": 5
}
